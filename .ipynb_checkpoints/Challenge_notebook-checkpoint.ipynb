{
 "cells": [
  {
   "cell_type": "code",
   "execution_count": 7,
   "metadata": {},
   "outputs": [],
   "source": [
    "import json, random\n",
    "import dateparser\n",
    "from dateparser.search import search_dates\n",
    "import datetime\n",
    "from geopy.geocoders import Nominatim\n",
    "import re\n",
    "import plotly\n",
    "import plotly.plotly as py\n",
    "import plotly.graph_objs as go\n"
   ]
  },
  {
   "cell_type": "code",
   "execution_count": 8,
   "metadata": {},
   "outputs": [
    {
     "data": {
      "text/html": [
       "<script>requirejs.config({paths: { 'plotly': ['https://cdn.plot.ly/plotly-latest.min']},});if(!window.Plotly) {{require(['plotly'],function(plotly) {window.Plotly=plotly;});}}</script>"
      ],
      "text/vnd.plotly.v1+html": [
       "<script>requirejs.config({paths: { 'plotly': ['https://cdn.plot.ly/plotly-latest.min']},});if(!window.Plotly) {{require(['plotly'],function(plotly) {window.Plotly=plotly;});}}</script>"
      ]
     },
     "metadata": {},
     "output_type": "display_data"
    }
   ],
   "source": [
    "plotly.tools.set_credentials_file(username='BadaBoooM63', api_key='tR8jFuFSijP46x4zNawh')\n",
    "plotly.offline.init_notebook_mode(connected=True)\n",
    "geolocator = Nominatim()\n",
    "pattern = r\"(\\d{4})-(\\d{2})-(\\d{2})\"\n",
    "ranking_counter = {'day':0, 'month': 0, 'year': 0, 'nd': 0, 'na': 0, 'fa':0, 'pa':0, 'ua': 0}"
   ]
  },
  {
   "cell_type": "code",
   "execution_count": 16,
   "metadata": {
    "collapsed": true
   },
   "outputs": [],
   "source": [
    "def main(args):\n",
    "    with open('parsing_challenge.json') as json_data:\n",
    "        data = json.load(json_data)\n",
    "    sample = random.randint(0, len(data))\n",
    "    answer_sample = []\n",
    "    dates_found = []\n",
    "    for i in range(10):\n",
    "        answer_sample.append(\n",
    "            {'N': sample + i, 'address': data[sample + i], 'date': '', 'ranking': '', 'ranking-address': '',\n",
    "             'road': '', 'city': '', 'country': ''})\n",
    "    for i in answer_sample:\n",
    "        i = find_date(i)\n",
    "        i = find_address(i)\n",
    "        print(i)\n",
    "    analysis_1()\n",
    "    analysis_2()\n",
    "    return 2"
   ]
  },
  {
   "cell_type": "code",
   "execution_count": 11,
   "metadata": {
    "collapsed": true
   },
   "outputs": [],
   "source": [
    "def find_date(one_value):\n",
    "    try:\n",
    "        dates_found = search_dates(one_value['address'])\n",
    "    except ZeroDivisionError:\n",
    "        one_value['address'] = one_value['address'].replace('of America', \"FixedError\")\n",
    "        dates_found = search_dates(one_value['address'])\n",
    "\n",
    "    if dates_found is not None:\n",
    "        one_value['date'] = dates_found[0][1].strftime(\"%Y-%m-%d\")\n",
    "        rank = dateparser.date.DateDataParser().get_date_data(dates_found[0][0])\n",
    "        one_value['ranking'] = rank['period']\n",
    "        ranking_counter[rank['period']] += 1\n",
    "        one_value['address'] = one_value['address'].replace(dates_found[0][0], \"\")\n",
    "    else:\n",
    "        one_value['ranking'] = \"no date\"\n",
    "        ranking_counter['nd'] += 1\n",
    "        tmp = re.search(pattern, one_value['address'])\n",
    "        if tmp is not None:\n",
    "            one_value['ranking'] = 'day'\n",
    "            one_value['date'] = '{}-{}-{}'.format(tmp.group(1), tmp.group(2), tmp.group(3))\n",
    "            ranking_counter['day'] += 1\n",
    "            ranking_counter['nd'] -= 1\n",
    "    return one_value"
   ]
  },
  {
   "cell_type": "code",
   "execution_count": 12,
   "metadata": {
    "collapsed": true
   },
   "outputs": [],
   "source": [
    "def find_address(one_value):\n",
    "    one_value['address'] = one_value['address'].replace(\"FixedError\", 'of America')\n",
    "    location = geolocator.geocode(one_value['address'], addressdetails=True, language='en')\n",
    "    if location is not None:\n",
    "        counter = 0\n",
    "        if 'road' in location.raw['address']:\n",
    "            one_value['road'] = location.raw['address']['road']\n",
    "            counter += 1\n",
    "        if 'city' in location.raw['address']:\n",
    "            one_value['city'] = location.raw['address']['city']\n",
    "            counter += 1\n",
    "        if 'country' in location.raw['address']:\n",
    "            one_value['country'] = location.raw['address']['country']\n",
    "            counter += 1\n",
    "        if counter == 3:\n",
    "            one_value['ranking-address'] = \"full address\"\n",
    "            ranking_counter['fa'] += 1\n",
    "        else:\n",
    "            one_value['ranking-address'] = \"part-known address\"\n",
    "            ranking_counter['pa'] += 1\n",
    "    elif len(one_value['address']) > 1:\n",
    "        one_value['ranking-address'] = \"unknown address\"\n",
    "        ranking_counter['ua'] += 1\n",
    "    else:\n",
    "        one_value['ranking-address'] = \"no address\"\n",
    "        ranking_counter['na'] += 1\n",
    "    return one_value"
   ]
  },
  {
   "cell_type": "code",
   "execution_count": 15,
   "metadata": {
    "collapsed": true
   },
   "outputs": [],
   "source": [
    "def analysis_1():\n",
    "    labels = ['full address', 'part-known address', 'unknown address', 'no address']\n",
    "    values = [ranking_counter['fa'], ranking_counter['pa'], ranking_counter['ua'], ranking_counter['na']]\n",
    "    trace = go.Pie(labels=labels, values=values)\n",
    "    plotly.offline.iplot([trace], filename='basic_pie_chart')\n",
    "    pass"
   ]
  },
  {
   "cell_type": "code",
   "execution_count": 14,
   "metadata": {
    "collapsed": true
   },
   "outputs": [],
   "source": [
    "def analysis_2():\n",
    "    labels = ['day', 'month', 'year', 'no date']\n",
    "    values = [ranking_counter['day'], ranking_counter['month'], ranking_counter['year'], ranking_counter['nd']]\n",
    "    trace = go.Pie(labels=labels, values=values)\n",
    "    plotly.offline.iplot([trace], filename='basic_pie_chart')\n",
    "    pass"
   ]
  },
  {
   "cell_type": "code",
   "execution_count": 17,
   "metadata": {},
   "outputs": [
    {
     "name": "stdout",
     "output_type": "stream",
     "text": [
      "{'N': 53181, 'address': ' Köhlfleet-Hauptdeich Hamburg', 'date': '', 'ranking': 'no date', 'ranking-address': 'part-known address', 'road': 'Köhlfleet-Hauptdeich', 'city': '', 'country': 'Germany'}\n",
      "{'N': 53182, 'address': ' Ukraine, 06/21/2016', 'date': '2018-02-19', 'ranking': 'day', 'ranking-address': 'part-known address', 'road': 'Ukraine', 'city': '', 'country': 'Tunisia'}\n",
      "{'N': 53183, 'address': ' Castellanza Verese', 'date': '', 'ranking': 'no date', 'ranking-address': 'unknown address', 'road': '', 'city': '', 'country': ''}\n",
      "{'N': 53184, 'address': '', 'date': '2016-09-01', 'ranking': 'day', 'ranking-address': 'no address', 'road': '', 'city': '', 'country': ''}\n",
      "{'N': 53185, 'address': '', 'date': '1965-02-19', 'ranking': 'year', 'ranking-address': 'no address', 'road': '', 'city': '', 'country': ''}\n",
      "{'N': 53186, 'address': '', 'date': '2015-04-01', 'ranking': 'day', 'ranking-address': 'no address', 'road': '', 'city': '', 'country': ''}\n",
      "{'N': 53187, 'address': '', 'date': '1861-02-19', 'ranking': 'year', 'ranking-address': 'no address', 'road': '', 'city': '', 'country': ''}\n",
      "{'N': 53188, 'address': '', 'date': '1959-02-19', 'ranking': 'year', 'ranking-address': 'no address', 'road': '', 'city': '', 'country': ''}\n",
      "{'N': 53189, 'address': '', 'date': '2016-08-06', 'ranking': 'day', 'ranking-address': 'no address', 'road': '', 'city': '', 'country': ''}\n",
      "{'N': 53190, 'address': '2007-12-31T00:00:00Z', 'date': '2007-12-31', 'ranking': 'day', 'ranking-address': 'unknown address', 'road': '', 'city': '', 'country': ''}\n"
     ]
    },
    {
     "data": {
      "application/vnd.plotly.v1+json": {
       "data": [
        {
         "labels": [
          "full address",
          "part-known address",
          "unknown address",
          "no address"
         ],
         "type": "pie",
         "values": [
          0,
          2,
          2,
          6
         ]
        }
       ],
       "layout": {}
      },
      "text/html": [
       "<div id=\"c65add57-55f5-42cf-bc6f-ae003c83c59e\" style=\"height: 525px; width: 100%;\" class=\"plotly-graph-div\"></div><script type=\"text/javascript\">require([\"plotly\"], function(Plotly) { window.PLOTLYENV=window.PLOTLYENV || {};window.PLOTLYENV.BASE_URL=\"https://plot.ly\";Plotly.newPlot(\"c65add57-55f5-42cf-bc6f-ae003c83c59e\", [{\"type\": \"pie\", \"labels\": [\"full address\", \"part-known address\", \"unknown address\", \"no address\"], \"values\": [0, 2, 2, 6]}], {}, {\"showLink\": true, \"linkText\": \"Export to plot.ly\"})});</script>"
      ],
      "text/vnd.plotly.v1+html": [
       "<div id=\"c65add57-55f5-42cf-bc6f-ae003c83c59e\" style=\"height: 525px; width: 100%;\" class=\"plotly-graph-div\"></div><script type=\"text/javascript\">require([\"plotly\"], function(Plotly) { window.PLOTLYENV=window.PLOTLYENV || {};window.PLOTLYENV.BASE_URL=\"https://plot.ly\";Plotly.newPlot(\"c65add57-55f5-42cf-bc6f-ae003c83c59e\", [{\"type\": \"pie\", \"labels\": [\"full address\", \"part-known address\", \"unknown address\", \"no address\"], \"values\": [0, 2, 2, 6]}], {}, {\"showLink\": true, \"linkText\": \"Export to plot.ly\"})});</script>"
      ]
     },
     "metadata": {},
     "output_type": "display_data"
    },
    {
     "data": {
      "application/vnd.plotly.v1+json": {
       "data": [
        {
         "labels": [
          "day",
          "month",
          "year",
          "no date"
         ],
         "type": "pie",
         "values": [
          5,
          0,
          3,
          2
         ]
        }
       ],
       "layout": {}
      },
      "text/html": [
       "<div id=\"0fab8366-ad4b-4334-97c5-fba86bba899d\" style=\"height: 525px; width: 100%;\" class=\"plotly-graph-div\"></div><script type=\"text/javascript\">require([\"plotly\"], function(Plotly) { window.PLOTLYENV=window.PLOTLYENV || {};window.PLOTLYENV.BASE_URL=\"https://plot.ly\";Plotly.newPlot(\"0fab8366-ad4b-4334-97c5-fba86bba899d\", [{\"type\": \"pie\", \"labels\": [\"day\", \"month\", \"year\", \"no date\"], \"values\": [5, 0, 3, 2]}], {}, {\"showLink\": true, \"linkText\": \"Export to plot.ly\"})});</script>"
      ],
      "text/vnd.plotly.v1+html": [
       "<div id=\"0fab8366-ad4b-4334-97c5-fba86bba899d\" style=\"height: 525px; width: 100%;\" class=\"plotly-graph-div\"></div><script type=\"text/javascript\">require([\"plotly\"], function(Plotly) { window.PLOTLYENV=window.PLOTLYENV || {};window.PLOTLYENV.BASE_URL=\"https://plot.ly\";Plotly.newPlot(\"0fab8366-ad4b-4334-97c5-fba86bba899d\", [{\"type\": \"pie\", \"labels\": [\"day\", \"month\", \"year\", \"no date\"], \"values\": [5, 0, 3, 2]}], {}, {\"showLink\": true, \"linkText\": \"Export to plot.ly\"})});</script>"
      ]
     },
     "metadata": {},
     "output_type": "display_data"
    },
    {
     "name": "stdout",
     "output_type": "stream",
     "text": [
      "{'day': 5, 'month': 0, 'year': 3, 'nd': 2, 'na': 6, 'fa': 0, 'pa': 2, 'ua': 2}\n"
     ]
    }
   ],
   "source": [
    "a = main(1)\n",
    "print(ranking_counter)"
   ]
  },
  {
   "cell_type": "code",
   "execution_count": null,
   "metadata": {
    "collapsed": true
   },
   "outputs": [],
   "source": []
  }
 ],
 "metadata": {
  "kernelspec": {
   "display_name": "Python 3",
   "language": "python",
   "name": "python3"
  },
  "language_info": {
   "codemirror_mode": {
    "name": "ipython",
    "version": 3
   },
   "file_extension": ".py",
   "mimetype": "text/x-python",
   "name": "python",
   "nbconvert_exporter": "python",
   "pygments_lexer": "ipython3",
   "version": "3.6.1"
  }
 },
 "nbformat": 4,
 "nbformat_minor": 2
}
